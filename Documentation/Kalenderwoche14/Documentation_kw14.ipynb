{
 "cells": [
  {
   "cell_type": "markdown",
   "metadata": {},
   "source": [
    "# KW 14:  Einarbeitungs- und Vorbereitungsphase"
   ]
  },
  {
   "cell_type": "markdown",
   "metadata": {},
   "source": [
    "![](../images//Aufbau_des_Kurses_Magic_Mirror.png)\n"
   ]
  },
  {
   "cell_type": "markdown",
   "metadata": {},
   "source": [
    "## Aufgabe"
   ]
  },
  {
   "cell_type": "markdown",
   "metadata": {},
   "source": [
    "Person schaut in eine Kamera, entsprechende Person soll identifizert werden. Dieser Person sollen dann personalisierte Daten angezeigt werden.\n",
    "\n",
    "- z.B. Termine, Wetter\n",
    "- ebenso Zustand (Emotion) der Person erkennen\n",
    "- Hinweise zum korrekten Outfit geben\n",
    "\n",
    "Nice to have: \n",
    "- Sprachsteuerung\n",
    "- Anbindung an bereits bestehende Datenquellen (Kalender, etc)\n",
    "- Gestensteuerung"
   ]
  },
  {
   "cell_type": "markdown",
   "metadata": {},
   "source": [
    "## Infrastruktur"
   ]
  },
  {
   "cell_type": "markdown",
   "metadata": {},
   "source": [
    "- Meetings: Vor Ort an der HNU / Discord\n",
    "- Github zur Versionskontrolle"
   ]
  },
  {
   "cell_type": "markdown",
   "metadata": {},
   "source": [
    "## Lösungsansätze / Systemaufbau-Konzeption"
   ]
  },
  {
   "cell_type": "markdown",
   "metadata": {},
   "source": [
    "- Gerät ist auf Standby, Funktionalität \"startet\", sobald ein Gesicht erkannt wird (**CV2**)\n",
    "- Gesicht wird mit **deepface/face-recognition** erkannt (Bilder zum trainieren können auch AI generiert sein)\n",
    "- mongoDB um personalisierte Daten zu speichern (**pymongo**)\n",
    "- **request** für weatherAPI um aktuelle Wetterdaten zu bekommen\n",
    "- Emotionserkennung mit **Tensorflow**\n",
    "- User Interface Darstellung am Ende mit entsprechenden Daten und live Video vom User (**CV2**)\n",
    "\n",
    "**Frameworks**: CV2, deepface/face-recognition, pymongo, request, Tensorflow"
   ]
  },
  {
   "cell_type": "markdown",
   "metadata": {},
   "source": [
    "## Kritische Elemente"
   ]
  },
  {
   "cell_type": "markdown",
   "metadata": {},
   "source": [
    "- Emotionserkennung sehr schwierig\n",
    "- welche Use Cases für Sprachsteuerung gibt es?\n",
    "- Raspberry Pi genügend Leistung? "
   ]
  },
  {
   "cell_type": "markdown",
   "metadata": {},
   "source": [
    "## Arbeitspaket Vorbereitung"
   ]
  },
  {
   "cell_type": "markdown",
   "metadata": {},
   "source": [
    "Alex:\n",
    "- Einarbeitung Tensorflow\n",
    "- Kleines KI Modell mit vorgegebenem Datensatz\n",
    "- bestmögliche AI Bildgenerierung rausfinden\n",
    "\n",
    "Lukas:\n",
    "- Einarbeitung deepface/face-recognition\n",
    "- erstes kleines Modell zur Gesichtserkennung\n",
    "- bestmögliches Framework zur Gesichtserkennung rausfinden"
   ]
  }
 ],
 "metadata": {
  "kernelspec": {
   "display_name": "magic_mirror_venv",
   "language": "python",
   "name": "python3"
  },
  "language_info": {
   "name": "python",
   "version": "3.11.0"
  }
 },
 "nbformat": 4,
 "nbformat_minor": 2
}
