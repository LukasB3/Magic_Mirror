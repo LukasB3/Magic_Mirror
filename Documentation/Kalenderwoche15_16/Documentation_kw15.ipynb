{
 "cells": [
  {
   "cell_type": "markdown",
   "metadata": {},
   "source": [
    "# KW 15:  Ergebnisse Einarbeitungs- und Vorbereitungsphase"
   ]
  },
  {
   "cell_type": "markdown",
   "metadata": {},
   "source": [
    "![](../images//kw_15_16_task.png)"
   ]
  },
  {
   "cell_type": "markdown",
   "metadata": {},
   "source": [
    "## Projektstruktur / Architekturbild"
   ]
  },
  {
   "cell_type": "markdown",
   "metadata": {},
   "source": [
    "![](../images//architektur_magic_mirror.png)"
   ]
  }
 ],
 "metadata": {
  "kernelspec": {
   "display_name": "magic_mirror_venv",
   "language": "python",
   "name": "python3"
  },
  "language_info": {
   "name": "python",
   "version": "3.11.0"
  }
 },
 "nbformat": 4,
 "nbformat_minor": 2
}
